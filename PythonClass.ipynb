{
  "nbformat": 4,
  "nbformat_minor": 0,
  "metadata": {
    "colab": {
      "provenance": [],
      "authorship_tag": "ABX9TyPx4rL/GpUN6pq8soElvQHK",
      "include_colab_link": true
    },
    "kernelspec": {
      "name": "python3",
      "display_name": "Python 3"
    },
    "language_info": {
      "name": "python"
    }
  },
  "cells": [
    {
      "cell_type": "markdown",
      "metadata": {
        "id": "view-in-github",
        "colab_type": "text"
      },
      "source": [
        "<a href=\"https://colab.research.google.com/github/anushka964/cppDSA/blob/main/PythonClass.ipynb\" target=\"_parent\"><img src=\"https://colab.research.google.com/assets/colab-badge.svg\" alt=\"Open In Colab\"/></a>"
      ]
    },
    {
      "cell_type": "markdown",
      "source": [
        "print() function accepts two arguments sep=\" \" and end = \"\"\n",
        "eg: print(\"hello\",\"World\",sep = \"***\",end=\".\")\n",
        "output: hello***World.\n",
        "\n",
        "**Octal and hexadecimal numbers**\n",
        "-\n",
        "\n",
        "There are two additional conventions in Python that are unknown to the world of mathematics. The first allows us to use numbers in an octal representation.\n",
        "\n",
        "If an integer number is preceded by an **0O or 0o **prefix (zero-o), it will be treated as an octal value. This means that the number must contain digits taken from the [0..7] range only."
      ],
      "metadata": {
        "id": "LxvyQoLEJjg1"
      }
    },
    {
      "cell_type": "code",
      "execution_count": null,
      "metadata": {
        "colab": {
          "base_uri": "https://localhost:8080/"
        },
        "id": "QKoBPY49b_AM",
        "outputId": "f1f87e17-54de-4eeb-e8e8-5a14716ab3f7"
      },
      "outputs": [
        {
          "output_type": "stream",
          "name": "stdout",
          "text": [
            "10\n",
            "9\n"
          ]
        }
      ],
      "source": [
        "gusses=10\n",
        "print(gusses)\n",
        "gusses -= 1\n",
        "print(gusses)"
      ]
    },
    {
      "cell_type": "markdown",
      "source": [
        "Scientific Representation\n",
        "3E8 this E is exponent can also be written as 3e8\n",
        "is equvalent to 3 x 10^8\n",
        "\n",
        "Note:\n",
        "\n",
        "the exponent (the value after the E) has to be an integer\n",
        "\n",
        "the base (the value in front of the E) may be either an integer or a float."
      ],
      "metadata": {
        "id": "Aovha_FujN9k"
      }
    },
    {
      "cell_type": "code",
      "source": [
        "3E8"
      ],
      "metadata": {
        "colab": {
          "base_uri": "https://localhost:8080/"
        },
        "id": "boIPjIx3jyre",
        "outputId": "7adaf9c5-88ad-47e0-f688-a58b68952082"
      },
      "execution_count": null,
      "outputs": [
        {
          "output_type": "execute_result",
          "data": {
            "text/plain": [
              "300000000.0"
            ]
          },
          "metadata": {},
          "execution_count": 1
        }
      ]
    },
    {
      "cell_type": "markdown",
      "source": [
        "EXPONENT IN PYTHON\n",
        "\n",
        "Remember: It's possible to formulate the following rules based on this\n",
        "- result:\n",
        "\n",
        "- when both ** arguments are integers, the result is an integer, too;\n",
        "- when at least one ** argument is a float, the result is a float, too.\n",
        "\n",
        "**NOTE**: Same rules apply for multiplication"
      ],
      "metadata": {
        "id": "9V2XnegvlbyD"
      }
    },
    {
      "cell_type": "code",
      "source": [
        "print(2 ** 3)\n",
        "print(2 ** 3.)\n",
        "print(2. ** 3)\n",
        "print(2. ** 3.)"
      ],
      "metadata": {
        "colab": {
          "base_uri": "https://localhost:8080/"
        },
        "id": "LSGQWiQklmoD",
        "outputId": "b6ffaec8-bc22-4b73-cab0-b9b1d80a5221"
      },
      "execution_count": null,
      "outputs": [
        {
          "output_type": "stream",
          "name": "stdout",
          "text": [
            "8\n",
            "8.0\n",
            "8.0\n",
            "8.0\n"
          ]
        }
      ]
    },
    {
      "cell_type": "markdown",
      "source": [
        "Division in Python\n",
        "\n",
        "- **The result produced by the division operator is always a float**, regardless of whether or not the result seems to be a float at first.\n",
        "- A // (double slash) sign is an integer division operator. It differs from the standard / operator in two details:\n",
        "\n",
        "**its result lacks the fractional part ‒ it's absent (for integers), or is always equal to zero (for floats)**; this means that the results are always rounded;\n"
      ],
      "metadata": {
        "id": "rbREBxNTmBU6"
      }
    },
    {
      "cell_type": "code",
      "source": [
        "print(6 // 3)\n",
        "print(6 // 3.)\n",
        "print(6. // 3)\n",
        "print(6. // 3.)\n"
      ],
      "metadata": {
        "colab": {
          "base_uri": "https://localhost:8080/"
        },
        "id": "VMhHMMazmsGZ",
        "outputId": "16f1c0d8-d3d9-48ff-963d-2c406a7f2b96"
      },
      "execution_count": null,
      "outputs": [
        {
          "output_type": "stream",
          "name": "stdout",
          "text": [
            "2\n",
            "2.0\n",
            "2.0\n",
            "2.0\n"
          ]
        }
      ]
    },
    {
      "cell_type": "markdown",
      "source": [
        "Fun Fact:\n",
        "**rounding always goes to the lesser integer.**\n",
        "\n",
        "In case of neagative values since ans is -1.5 the lesser rounding goes to -2 and not -1"
      ],
      "metadata": {
        "id": "7HzzgwXgnOtS"
      }
    },
    {
      "cell_type": "code",
      "source": [
        "print(-6 // 4)\n",
        "print(6. // -4)\n"
      ],
      "metadata": {
        "colab": {
          "base_uri": "https://localhost:8080/"
        },
        "id": "L30XUHRNnZop",
        "outputId": "bc54f708-22ae-4d68-a86e-b3c2000bfd64"
      },
      "execution_count": null,
      "outputs": [
        {
          "output_type": "stream",
          "name": "stdout",
          "text": [
            "-2\n",
            "-2.0\n"
          ]
        }
      ]
    },
    {
      "cell_type": "markdown",
      "source": [
        "BINDING:\n",
        "\n",
        "- Most python operator have left-sided binding.\n",
        "- exponential operator ** has right side binding\n",
        "\n",
        "from left to right: first 9 % 6 gives 3, and then 3 % 2 gives 1;\n",
        "\n",
        "2 ** 3 → 8; 2 ** 8 → 256"
      ],
      "metadata": {
        "id": "1LZqGvMgoYLV"
      }
    },
    {
      "cell_type": "code",
      "source": [
        "print(9 % 6 % 2)\n",
        "print(2**2**3)\n"
      ],
      "metadata": {
        "colab": {
          "base_uri": "https://localhost:8080/"
        },
        "id": "qYGHVRKbp5mc",
        "outputId": "caed6621-208a-4fbf-9ffe-fab18a8eac52"
      },
      "execution_count": null,
      "outputs": [
        {
          "output_type": "stream",
          "name": "stdout",
          "text": [
            "1\n",
            "256\n"
          ]
        }
      ]
    },
    {
      "cell_type": "markdown",
      "source": [
        "first computed 5 * ((25 % 13) + 100\n",
        "\n",
        "then 560 /26\n",
        "\n",
        "then 21.53846153846154//2"
      ],
      "metadata": {
        "id": "qpwTE4n8sk8W"
      }
    },
    {
      "cell_type": "code",
      "source": [
        "print((5 * ((25 % 13) + 100) / (2 * 13)) // 2)"
      ],
      "metadata": {
        "colab": {
          "base_uri": "https://localhost:8080/"
        },
        "id": "48gs70w5sKgW",
        "outputId": "bb811f14-c8b8-4c4a-aca9-7ef7ce86b7fe"
      },
      "execution_count": null,
      "outputs": [
        {
          "output_type": "stream",
          "name": "stdout",
          "text": [
            "10.0\n"
          ]
        }
      ]
    },
    {
      "cell_type": "markdown",
      "source": [
        "to find sqeuare root of a function without using a function:\n",
        "\n",
        "c = (a ** 2 + b ** 2) ** 0.5"
      ],
      "metadata": {
        "id": "edq4SIPLI35R"
      }
    },
    {
      "cell_type": "markdown",
      "source": [
        "round() function round a number upto 1,2,3 decimal places\n"
      ],
      "metadata": {
        "id": "P6MOEWdzKwJ3"
      }
    },
    {
      "cell_type": "code",
      "source": [
        "kilometers = 12.25\n",
        "miles = 7.38\n",
        "\n",
        "miles_to_kilometers = miles * 1.61\n",
        "kilometers_to_miles = kilometers / 1.61\n",
        "\n",
        "print(miles, \"miles is\", round(miles_to_kilometers, 2), \"kilometers\")\n",
        "print(kilometers, \"kilometers is\", round(kilometers_to_miles, 2), \"miles\")"
      ],
      "metadata": {
        "colab": {
          "base_uri": "https://localhost:8080/"
        },
        "id": "s-FSI5qXK4KT",
        "outputId": "4f5bf676-e695-409d-f6dd-44d4513c1a86"
      },
      "execution_count": null,
      "outputs": [
        {
          "output_type": "stream",
          "name": "stdout",
          "text": [
            "7.38 miles is 11.88 kilometers\n",
            "12.25 kilometers is 7.61 miles\n"
          ]
        }
      ]
    },
    {
      "cell_type": "code",
      "source": [
        "# 2 (starting number) → 5 (2 increment by 3 equals 5 – the number is within the range from 2 to 8) → 8\n",
        "#  (5 increment by 3 equals 8 – the number is not within the range from 2 to 8,\n",
        "#  because the stop parameter is not included in the sequence of numbers generated by the function.)\n",
        "for i in range(2, 8, 3):\n",
        "    print(\"The value of i is currently\", i)\n"
      ],
      "metadata": {
        "id": "BYqbS10WXuvi"
      },
      "execution_count": null,
      "outputs": []
    },
    {
      "cell_type": "code",
      "source": [
        "#functions\n",
        "name = input(\"Enter your name : \")\n",
        "print(\"your name is:\" + name)\n",
        "def greet():\n",
        "  age = int(input(\"Enter your age: \"))\n",
        "  print(\"Your age is: \"+str(age))\n",
        "greet()"
      ],
      "metadata": {
        "colab": {
          "base_uri": "https://localhost:8080/"
        },
        "id": "AmSFBmjrITHz",
        "outputId": "14e26a62-6e36-4b39-ec30-4dc78ea96eb4"
      },
      "execution_count": null,
      "outputs": [
        {
          "output_type": "stream",
          "name": "stdout",
          "text": [
            "Enter your name : Anushka\n",
            "your name is:Anushka\n",
            "Enter your age: 19\n",
            "Your age is: 19\n"
          ]
        }
      ]
    },
    {
      "cell_type": "code",
      "source": [
        "# Built in functions in python\n",
        "''' def functionName(inputName)\n",
        "        body'''\n",
        "def addFive(x):\n",
        "  print(5+x)\n",
        "addFive(30)"
      ],
      "metadata": {
        "colab": {
          "base_uri": "https://localhost:8080/"
        },
        "id": "vBIUUJkVKvJj",
        "outputId": "9c68d55c-09f7-4292-9176-207942d7b8f2"
      },
      "execution_count": null,
      "outputs": [
        {
          "output_type": "stream",
          "name": "stdout",
          "text": [
            "35\n"
          ]
        }
      ]
    },
    {
      "cell_type": "code",
      "source": [
        "addFive(98.2)"
      ],
      "metadata": {
        "colab": {
          "base_uri": "https://localhost:8080/"
        },
        "id": "obzaq4znLvpH",
        "outputId": "95eee5d9-dcdc-4575-f019-a946cc9c2013"
      },
      "execution_count": null,
      "outputs": [
        {
          "output_type": "stream",
          "name": "stdout",
          "text": [
            "103.2\n"
          ]
        }
      ]
    },
    {
      "cell_type": "code",
      "source": [
        "def square(x):\n",
        "  return x*x\n",
        "result= square(5)\n",
        "print(result)\n",
        "another=square(result)\n",
        "print(another)"
      ],
      "metadata": {
        "id": "9zVDkz9jL2Zq",
        "colab": {
          "base_uri": "https://localhost:8080/"
        },
        "outputId": "eee7120a-8675-410c-d074-724a05539d5d"
      },
      "execution_count": null,
      "outputs": [
        {
          "output_type": "stream",
          "name": "stdout",
          "text": [
            "25\n",
            "625\n"
          ]
        }
      ]
    },
    {
      "cell_type": "code",
      "source": [
        "def sumOfSquare(x,y):\n",
        "  sq1=x*x\n",
        "  sq2=y*y\n",
        "  return sq1+sq2\n",
        "result=sumOfSquare(5,3)\n",
        "print(result)"
      ],
      "metadata": {
        "colab": {
          "base_uri": "https://localhost:8080/"
        },
        "id": "Y1fvLCj-dK7z",
        "outputId": "7299163e-b448-4f4a-d17e-d4dbb7cdf31f"
      },
      "execution_count": null,
      "outputs": [
        {
          "output_type": "stream",
          "name": "stdout",
          "text": [
            "34\n"
          ]
        }
      ]
    },
    {
      "cell_type": "code",
      "source": [
        "import calendar\n",
        "print(calendar.month(2024,9))\n",
        "\n"
      ],
      "metadata": {
        "colab": {
          "base_uri": "https://localhost:8080/"
        },
        "id": "5EU9Bdvsev--",
        "outputId": "4f40a9ef-178a-409d-fbb6-7010f1e7bfa0"
      },
      "execution_count": null,
      "outputs": [
        {
          "output_type": "stream",
          "name": "stdout",
          "text": [
            "   September 2024\n",
            "Mo Tu We Th Fr Sa Su\n",
            "                   1\n",
            " 2  3  4  5  6  7  8\n",
            " 9 10 11 12 13 14 15\n",
            "16 17 18 19 20 21 22\n",
            "23 24 25 26 27 28 29\n",
            "30\n",
            "\n"
          ]
        }
      ]
    },
    {
      "cell_type": "markdown",
      "source": [
        "**Binary left shift and binary right shift**"
      ],
      "metadata": {
        "id": "TWk7CDGxP-57"
      }
    },
    {
      "cell_type": "code",
      "source": [
        "var = 17\n",
        "var_right = var >> 1\n",
        "var_left = var << 2\n",
        "print(var, var_left, var_right)\n"
      ],
      "metadata": {
        "id": "0Qdcqm3BP9K0"
      },
      "execution_count": null,
      "outputs": []
    },
    {
      "cell_type": "markdown",
      "source": [
        "& (ampersand) ‒ bitwise conjunction;\n",
        "\n",
        "| (bar) ‒ bitwise disjunction;\n",
        "\n",
        "~ (tilde) ‒ bitwise negation;\n",
        "\n",
        "^ (caret) ‒ bitwise exclusive or (xor)."
      ],
      "metadata": {
        "id": "jGEfOI0uNrjV"
      }
    },
    {
      "cell_type": "code",
      "source": [
        "import math\n",
        "print(math.sqrt(625))"
      ],
      "metadata": {
        "colab": {
          "base_uri": "https://localhost:8080/"
        },
        "id": "yoq9gp1ofYC6",
        "outputId": "3f6ea7b5-e5cb-47b6-c7ca-b96176a1654c"
      },
      "execution_count": null,
      "outputs": [
        {
          "output_type": "stream",
          "name": "stdout",
          "text": [
            "25.0\n"
          ]
        }
      ]
    },
    {
      "cell_type": "code",
      "source": [
        "name=input(\"Enter your name: \")\n",
        "print(name)\n",
        "print(type(name))"
      ],
      "metadata": {
        "id": "X5fXGlE3fqsK",
        "colab": {
          "base_uri": "https://localhost:8080/"
        },
        "outputId": "c57bddaa-3da1-4260-9337-eac3a89b6855"
      },
      "execution_count": null,
      "outputs": [
        {
          "output_type": "stream",
          "name": "stdout",
          "text": [
            "Enter your name: Anushka\n",
            "Anushka\n"
          ]
        },
        {
          "output_type": "execute_result",
          "data": {
            "text/plain": [
              "str"
            ]
          },
          "metadata": {},
          "execution_count": 11
        }
      ]
    },
    {
      "cell_type": "code",
      "source": [
        "def sum(x,y):\n",
        "\n",
        "  print(\"Sum of two numbers: \")\n",
        "  return x+y\n",
        "print(sum(2,5))"
      ],
      "metadata": {
        "colab": {
          "base_uri": "https://localhost:8080/"
        },
        "id": "JLHaj6_G78w2",
        "outputId": "bbba5337-eb46-40fc-b5e7-f005ab264946"
      },
      "execution_count": null,
      "outputs": [
        {
          "output_type": "stream",
          "name": "stdout",
          "text": [
            "Sum of two numbers: \n",
            "7\n"
          ]
        }
      ]
    },
    {
      "cell_type": "code",
      "source": [
        "print(\"hello\"+\" \"+\"python\")\n",
        "#this is python code]"
      ],
      "metadata": {
        "colab": {
          "base_uri": "https://localhost:8080/"
        },
        "id": "e6Hp6suT8-SF",
        "outputId": "081532f5-1eb4-4dde-d851-ddf4be702f35"
      },
      "execution_count": null,
      "outputs": [
        {
          "output_type": "stream",
          "name": "stdout",
          "text": [
            "hello python\n"
          ]
        }
      ]
    },
    {
      "cell_type": "code",
      "source": [
        "number=\"anushkam\"\n",
        "print(type(number))\n",
        "print(number,\"is type of \",type(number))"
      ],
      "metadata": {
        "colab": {
          "base_uri": "https://localhost:8080/"
        },
        "id": "q8-RfcZN_nNt",
        "outputId": "93161d31-9dff-4619-8596-a14a8b58dde5"
      },
      "execution_count": null,
      "outputs": [
        {
          "output_type": "stream",
          "name": "stdout",
          "text": [
            "<class 'str'>\n",
            "anushka is type of  <class 'str'>\n"
          ]
        }
      ]
    },
    {
      "cell_type": "code",
      "source": [
        "a=\"welcome\"\n",
        "print(a[-3])"
      ],
      "metadata": {
        "colab": {
          "base_uri": "https://localhost:8080/"
        },
        "id": "MtQkp7JVBjEh",
        "outputId": "fe93cf09-2212-4778-87ef-90d52e1b0fd6"
      },
      "execution_count": null,
      "outputs": [
        {
          "output_type": "stream",
          "name": "stdout",
          "text": [
            "o\n"
          ]
        }
      ]
    },
    {
      "cell_type": "code",
      "source": [
        "for num in range(3):\n",
        "    print(\"attempt\")"
      ],
      "metadata": {
        "colab": {
          "base_uri": "https://localhost:8080/"
        },
        "id": "vvPjRLU-EJVe",
        "outputId": "77722ca9-d55d-4902-d854-acf8f33ea7e7"
      },
      "execution_count": null,
      "outputs": [
        {
          "output_type": "stream",
          "name": "stdout",
          "text": [
            "attempt\n",
            "attempt\n",
            "attempt\n"
          ]
        }
      ]
    },
    {
      "cell_type": "code",
      "source": [
        "for x in range(1,10,2):\n",
        "    print(x)"
      ],
      "metadata": {
        "colab": {
          "base_uri": "https://localhost:8080/"
        },
        "id": "VGGn4fgLEbNB",
        "outputId": "872f07ea-bdc7-4310-e9c2-8d32f696c159"
      },
      "execution_count": null,
      "outputs": [
        {
          "output_type": "stream",
          "name": "stdout",
          "text": [
            "1\n",
            "3\n",
            "5\n",
            "7\n",
            "9\n"
          ]
        }
      ]
    },
    {
      "cell_type": "code",
      "source": [
        "successful=True\n",
        "for x in range(3):\n",
        "\n",
        "  if successful:\n",
        "    print(\"successful\")\n",
        "  else:\n",
        "\n",
        "    print(\"unsuccessful\")"
      ],
      "metadata": {
        "colab": {
          "base_uri": "https://localhost:8080/"
        },
        "id": "1Vbf9a_gEvGh",
        "outputId": "06feef63-6b20-440f-e504-ab2b42ea29bf"
      },
      "execution_count": null,
      "outputs": [
        {
          "output_type": "stream",
          "name": "stdout",
          "text": [
            "successful\n",
            "successful\n",
            "successful\n"
          ]
        }
      ]
    },
    {
      "cell_type": "code",
      "source": [
        "import random\n",
        "num = random.randint(1,100)\n",
        "print(num)"
      ],
      "metadata": {
        "colab": {
          "base_uri": "https://localhost:8080/"
        },
        "id": "kUsXGrlLItTQ",
        "outputId": "20a1c2c0-3e1e-4a33-8d4b-61a70b334450"
      },
      "execution_count": null,
      "outputs": [
        {
          "output_type": "stream",
          "name": "stdout",
          "text": [
            "22\n"
          ]
        }
      ]
    },
    {
      "cell_type": "code",
      "source": [
        "fruits = [\"apple\",\"banana\",\"cherry\",\"kiwi\"]\n",
        "eat = random.choice(fruits)\n",
        "print(eat)"
      ],
      "metadata": {
        "colab": {
          "base_uri": "https://localhost:8080/"
        },
        "id": "MZ_mCuwaJJAv",
        "outputId": "eeeb20b2-021d-4f0c-b18b-13c5296e0199"
      },
      "execution_count": null,
      "outputs": [
        {
          "output_type": "stream",
          "name": "stdout",
          "text": [
            "apple\n"
          ]
        }
      ]
    },
    {
      "cell_type": "code",
      "source": [
        "deck=[\"ace\",\"king\",\"queen\",\"one\",\"two\"]\n",
        "random.shuffle(deck)\n",
        "print"
      ],
      "metadata": {
        "id": "RkTE2wGxJfSC"
      },
      "execution_count": null,
      "outputs": []
    },
    {
      "cell_type": "code",
      "source": [
        "name=\"ice\"\n",
        "type(name)"
      ],
      "metadata": {
        "colab": {
          "base_uri": "https://localhost:8080/"
        },
        "id": "wEmAUivdKGnq",
        "outputId": "38c48132-f549-42d3-ae05-c4e8e93dfd4a"
      },
      "execution_count": null,
      "outputs": [
        {
          "output_type": "execute_result",
          "data": {
            "text/plain": [
              "str"
            ]
          },
          "metadata": {},
          "execution_count": 10
        }
      ]
    },
    {
      "cell_type": "markdown",
      "source": [
        "**Collection of data**"
      ],
      "metadata": {
        "id": "P-F7tufyKmTf"
      }
    },
    {
      "cell_type": "code",
      "source": [
        "list1=[2.5,\"C++\",\"Java\",500,\"C#\"]\n",
        "print(list1)\n",
        "list1"
      ],
      "metadata": {
        "colab": {
          "base_uri": "https://localhost:8080/"
        },
        "id": "hhRZpYyJKqxy",
        "outputId": "2d5fc413-0919-43f8-dc2d-a536fe3b0f09"
      },
      "execution_count": null,
      "outputs": [
        {
          "output_type": "stream",
          "name": "stdout",
          "text": [
            "[2.5, 'C++', 'Java', 500, 'C#']\n"
          ]
        },
        {
          "output_type": "execute_result",
          "data": {
            "text/plain": [
              "list"
            ]
          },
          "metadata": {},
          "execution_count": 1
        }
      ]
    },
    {
      "cell_type": "markdown",
      "source": [
        "Python provide Squences to store collection of data\n",
        "1)list\n",
        "2)Tuple\n",
        "3)Dictionary"
      ],
      "metadata": {
        "id": "CB2ZsDgbK9TE"
      }
    },
    {
      "cell_type": "markdown",
      "source": [
        "**List**\n",
        "- A sequence with specific order\n",
        "- Square bracket to declare a list\n",
        "- Commas seperate items\n",
        "- Can store all type of data"
      ],
      "metadata": {
        "id": "UJrRw4rkLLA2"
      }
    },
    {
      "cell_type": "markdown",
      "source": [
        "**METHODS OF LIST**\n",
        "- append: list.append(value)\n",
        "  \n",
        "  note: adds only one element at a time\n",
        "- insert: list.insert(location,value)\n",
        "- sort: list.sort() sort the list in ascending\n",
        "- reverse(): list.reverse()\n",
        "- extend(): extends already existing list\n",
        "- remove():any position element from list\n",
        "- pop():  delete only last element from the list"
      ],
      "metadata": {
        "id": "c5BFloTqfR5W"
      }
    },
    {
      "cell_type": "code",
      "source": [
        "print(list1[1])"
      ],
      "metadata": {
        "colab": {
          "base_uri": "https://localhost:8080/"
        },
        "id": "zRHblP6gLiA5",
        "outputId": "afd8405b-95ac-4d04-ab9e-82b4121b9a22"
      },
      "execution_count": null,
      "outputs": [
        {
          "output_type": "stream",
          "name": "stdout",
          "text": [
            "C++\n"
          ]
        }
      ]
    },
    {
      "cell_type": "code",
      "source": [
        "list1=[1,2,3,4]\n",
        "list1.insert(1,1)\n",
        "print(list1)"
      ],
      "metadata": {
        "colab": {
          "base_uri": "https://localhost:8080/"
        },
        "id": "VyvlfHDASbSu",
        "outputId": "7a762a39-18ba-4462-ecb3-84232aab7971"
      },
      "execution_count": null,
      "outputs": [
        {
          "output_type": "stream",
          "name": "stdout",
          "text": [
            "[1, 1, 2, 3, 4]\n",
            "[1, 1, 2, 3, 4]\n"
          ]
        }
      ]
    },
    {
      "cell_type": "markdown",
      "source": [
        "del can delete more than one element using slicing"
      ],
      "metadata": {
        "id": "C4QbNJf11u5M"
      }
    },
    {
      "cell_type": "code",
      "source": [
        "# Removing elements from a list\n",
        "# Any of the list's elements may be removed at any time ‒\n",
        "#this is done with an instruction named del (delete). Note: it's an instruction, not a function.\n",
        "name = ['anushka','archi','ambika','aishwarya','akruti']\n",
        "del name[2]\n",
        "print(name)\n",
        "del name[1:]\n",
        "print(name)"
      ],
      "metadata": {
        "colab": {
          "base_uri": "https://localhost:8080/"
        },
        "id": "Orqb6mwHbYAs",
        "outputId": "92260d2e-282c-49ad-bdba-a0921ff81969"
      },
      "execution_count": null,
      "outputs": [
        {
          "output_type": "stream",
          "name": "stdout",
          "text": [
            "['anushka', 'archi', 'aishwarya', 'akruti']\n",
            "['anushka']\n"
          ]
        }
      ]
    },
    {
      "cell_type": "markdown",
      "source": [
        "**in and not in Operators in LIST**"
      ],
      "metadata": {
        "id": "EIfapIQY2LU4"
      }
    },
    {
      "cell_type": "code",
      "source": [
        "my_list = [0, 3, 12, 8, 2]\n",
        "print(5 in my_list)\n",
        "print(5 not in my_list)\n",
        "print(12 in my_list)\n"
      ],
      "metadata": {
        "colab": {
          "base_uri": "https://localhost:8080/"
        },
        "id": "K03MUO1g2Osp",
        "outputId": "9f474641-ae4f-40ba-e8e3-312f341f8675"
      },
      "execution_count": null,
      "outputs": [
        {
          "output_type": "stream",
          "name": "stdout",
          "text": [
            "False\n",
            "True\n",
            "True\n"
          ]
        }
      ]
    },
    {
      "cell_type": "code",
      "source": [
        "my_list = []  # Creating an empty list.\n",
        "\n",
        "for i in range(5):\n",
        "    my_list.append(i + 1)\n",
        "\n",
        "print(my_list)\n",
        "my_list1 = []  # Creating an empty list.\n",
        "\n",
        "for i in range(5):\n",
        "  # at 0 index first 1 inserted then at 0 index 2 gets inserted and so on..\n",
        "    my_list1.insert(0, i + 1)#use of insert method\n",
        "\n",
        "print(my_list1)"
      ],
      "metadata": {
        "colab": {
          "base_uri": "https://localhost:8080/"
        },
        "id": "i52umZC0jB00",
        "outputId": "daaad0ab-0c16-4078-b10d-7b64d182653b"
      },
      "execution_count": null,
      "outputs": [
        {
          "output_type": "stream",
          "name": "stdout",
          "text": [
            "[1, 2, 3, 4, 5]\n",
            "[5, 4, 3, 2, 1]\n"
          ]
        }
      ]
    },
    {
      "cell_type": "code",
      "source": [
        "# PROGRAM TO PRINT UNIQUE ELEMENTS OF A LIST\n",
        "my_list = [1, 2, 4, 4, 1, 4, 2, 6, 2, 9]\n",
        "new = []\n",
        "#\n",
        "# Write your code here.\n",
        "#\n",
        "new.append(my_list[0])\n",
        "for i in my_list:\n",
        "    if i not in new:\n",
        "        new.append(i)\n",
        "print(\"The list with unique elements only:\")\n",
        "print(new)\n"
      ],
      "metadata": {
        "id": "3lIeW5Zw492_"
      },
      "execution_count": null,
      "outputs": []
    },
    {
      "cell_type": "code",
      "source": [
        "list1[3]=\"Ruby\"\n",
        "print(list1[3])\n",
        "d=\"hello\"\n",
        "list1=list(d) # LIST function creates a list for given input\n",
        "print(list1)"
      ],
      "metadata": {
        "colab": {
          "base_uri": "https://localhost:8080/"
        },
        "id": "ZwVfldIqLqCM",
        "outputId": "b5a8030e-70cb-48a7-d9f5-d4c96b9981ee"
      },
      "execution_count": null,
      "outputs": [
        {
          "output_type": "stream",
          "name": "stdout",
          "text": [
            "Ruby\n",
            "['h', 'e', 'l', 'l', 'o']\n"
          ]
        }
      ]
    },
    {
      "cell_type": "code",
      "source": [
        "# SPLIT Command\n",
        "s=\"learning python\"\n",
        "list1 = s.split()\n",
        "print(list1)"
      ],
      "metadata": {
        "colab": {
          "base_uri": "https://localhost:8080/"
        },
        "id": "xb3EF7bIJrHK",
        "outputId": "835c2f1b-8d43-4e3e-92dc-cbe3ce5ea1fd"
      },
      "execution_count": null,
      "outputs": [
        {
          "output_type": "stream",
          "name": "stdout",
          "text": [
            "['learning', 'python']\n"
          ]
        }
      ]
    },
    {
      "cell_type": "markdown",
      "source": [
        "increment includes the start position also"
      ],
      "metadata": {
        "id": "89oK1IZKNrVO"
      }
    },
    {
      "cell_type": "code",
      "source": [
        "list2=[10,20,30,4,50,60,70,80,90,100]\n",
        "print(list2[2:5])\n",
        "print(list2[4::2])\n",
        "print(list2[8:2:-2])\n",
        "#print(list2)"
      ],
      "metadata": {
        "colab": {
          "base_uri": "https://localhost:8080/"
        },
        "id": "QD5vIwpWGhr9",
        "outputId": "4c167045-e903-4282-86f0-b0f7f732f4ff"
      },
      "execution_count": null,
      "outputs": [
        {
          "output_type": "stream",
          "name": "stdout",
          "text": [
            "[30, 4, 50]\n",
            "[50, 70, 90]\n",
            "[90, 70, 50]\n"
          ]
        }
      ]
    },
    {
      "cell_type": "code",
      "source": [
        "#If the start specifies an element lying further than the one described by the end\n",
        "#(from the list's beginning), the slice will be empty:\n",
        "my_list = [10, 8, 6, 4, 2]\n",
        "new_list = my_list[-1:1]\n",
        "print(new_list)"
      ],
      "metadata": {
        "colab": {
          "base_uri": "https://localhost:8080/"
        },
        "id": "J7Ry9Hrb1T9l",
        "outputId": "162ff375-401c-4c14-fa4e-91f58e5e92f6"
      },
      "execution_count": null,
      "outputs": [
        {
          "output_type": "stream",
          "name": "stdout",
          "text": [
            "[]\n"
          ]
        }
      ]
    },
    {
      "cell_type": "code",
      "source": [
        "# LIST TRAVERSAL\n",
        "n = [0,1,2,3,4]\n",
        "i=0\n",
        "while i<len(n):\n",
        "  print(n[i])\n",
        "  i+=1"
      ],
      "metadata": {
        "colab": {
          "base_uri": "https://localhost:8080/"
        },
        "id": "juwUEzHBOVSe",
        "outputId": "33163e80-267c-4f7b-b97e-2c8b3eabb049"
      },
      "execution_count": null,
      "outputs": [
        {
          "output_type": "stream",
          "name": "stdout",
          "text": [
            "0\n",
            "1\n",
            "2\n",
            "3\n",
            "4\n"
          ]
        }
      ]
    },
    {
      "cell_type": "markdown",
      "source": [
        "**The name of a list is the name of a memory location where the list is stored.**\n",
        "\n"
      ],
      "metadata": {
        "id": "xbKt_SsB0eRC"
      }
    },
    {
      "cell_type": "code",
      "source": [
        "list_1 = [1]\n",
        "list_2 = list_1\n",
        "list_1[0] = 2\n",
        "print(list_2)\n",
        "# note instead of print [1] elemnt of list_2 output is [2]"
      ],
      "metadata": {
        "id": "IB7Hteu70e3S"
      },
      "execution_count": null,
      "outputs": []
    },
    {
      "cell_type": "code",
      "source": [
        "# write a program to display even no from list of elements\n",
        "l=[0,1,2,3,4,5,6,7,8,9,10]\n",
        "for x in l:\n",
        "  if x%2==0:\n",
        "     print(x)"
      ],
      "metadata": {
        "colab": {
          "base_uri": "https://localhost:8080/"
        },
        "id": "2fRD-tAdOzfl",
        "outputId": "6c55504b-7f37-4af1-982c-9953dd1a9080"
      },
      "execution_count": null,
      "outputs": [
        {
          "output_type": "stream",
          "name": "stdout",
          "text": [
            "0\n",
            "2\n",
            "4\n",
            "6\n",
            "8\n",
            "10\n"
          ]
        }
      ]
    },
    {
      "cell_type": "code",
      "source": [
        "# SWAPPING IN PYTHON\n",
        "variable_1 = 1\n",
        "variable_2 = 2\n",
        "print(\"Before swapping:\")\n",
        "print(\"variable_1 =\", variable_1)\n",
        "print(\"variable_2 =\", variable_2)\n",
        "variable_1, variable_2 = variable_2, variable_1\n",
        "print(\"After swapping:\")\n",
        "print(\"variable_1 =\", variable_1)\n",
        "print(\"variable_2 =\", variable_2)"
      ],
      "metadata": {
        "id": "8G1T_nOBRGpl",
        "colab": {
          "base_uri": "https://localhost:8080/"
        },
        "outputId": "c685aef3-c334-4a01-9014-beb38ce046d0"
      },
      "execution_count": null,
      "outputs": [
        {
          "output_type": "stream",
          "name": "stdout",
          "text": [
            "Before swapping:\n",
            "variable_1 = 1\n",
            "variable_2 = 2\n",
            "After swapping:\n",
            "variable_1 = 2\n",
            "variable_2 = 1\n"
          ]
        }
      ]
    },
    {
      "cell_type": "code",
      "source": [
        "# write a program to add all element to list upto 100 divisible by 10\n",
        "l=[]\n",
        "for x in range(101):\n",
        "  if x%10==0:\n",
        "    l.append(x)\n",
        "print(l)"
      ],
      "metadata": {
        "colab": {
          "base_uri": "https://localhost:8080/"
        },
        "id": "y2spwPTGTqJp",
        "outputId": "53f85e8f-6fc5-4cee-d4cd-07facdae200f"
      },
      "execution_count": null,
      "outputs": [
        {
          "output_type": "stream",
          "name": "stdout",
          "text": [
            "[0, 10, 20, 30, 40, 50, 60, 70, 80, 90, 100]\n"
          ]
        }
      ]
    },
    {
      "cell_type": "markdown",
      "source": [
        "H.W\n",
        "\n",
        "hi 0\n",
        "\n",
        "hi 1\n",
        "\n",
        "hi 2\n",
        "\n",
        "*******************************************************************\n",
        "hi 0 *\n",
        "\n",
        "hi 1 **\n",
        "\n",
        "hi 2 ***\n"
      ],
      "metadata": {
        "id": "ceENUz1CVcRX"
      }
    },
    {
      "cell_type": "code",
      "source": [
        "if 20 in list2:\n",
        "  print(\"yes , 'people' is here\")\n",
        "for x in list2:\n",
        "   if x==20:\n",
        "     print(\"yes\")"
      ],
      "metadata": {
        "colab": {
          "base_uri": "https://localhost:8080/"
        },
        "id": "fP8m-gqgG6Dr",
        "outputId": "1d9d62ab-4e4b-4b9f-ba9b-66c7ba659b12"
      },
      "execution_count": null,
      "outputs": [
        {
          "output_type": "stream",
          "name": "stdout",
          "text": [
            "yes , 'people' is here\n",
            "yes\n"
          ]
        }
      ]
    },
    {
      "cell_type": "markdown",
      "source": [
        "**Tuples**\n",
        "- Have specific order\n",
        "- Items can't be changed\n",
        "- Parentheses() enclose items\n",
        "- commas seperate items\n",
        "\n"
      ],
      "metadata": {
        "id": "oHs4pPj3M87O"
      }
    },
    {
      "cell_type": "markdown",
      "source": [
        "Method of tuples:\n",
        "- len()\n",
        "- count(element) : count the occurence of an element\n",
        "- index(element): return the index of first occurence of the element passed"
      ],
      "metadata": {
        "id": "ZcjbCfHCSHZP"
      }
    },
    {
      "cell_type": "code",
      "source": [
        "Emp1_details = (\"Emp01\",\"Anushka\",\"Developer\",50000,\"05/09/2022\")\n",
        "Emp2_details = (\"Emp02\",\"Aishwarya\",\"Manager\",90000,\"11/02/2017\")\n",
        "type(Emp1_details)"
      ],
      "metadata": {
        "colab": {
          "base_uri": "https://localhost:8080/"
        },
        "id": "rchGnWHpNU5_",
        "outputId": "20b287b1-8994-445b-b701-857170a832a8"
      },
      "execution_count": null,
      "outputs": [
        {
          "output_type": "execute_result",
          "data": {
            "text/plain": [
              "tuple"
            ]
          },
          "metadata": {},
          "execution_count": 18
        }
      ]
    },
    {
      "cell_type": "code",
      "source": [
        "t=10,20,30,40\n",
        "print(t)\n",
        "print(type(t))\n",
        "\n",
        "list=[10,20,30,40]\n",
        "t = tuple(list)\n",
        "t = tuple(range(10,20,2))\n",
        "print(t)\n",
        "\n",
        "t = (10,20,30,40,50,60)\n",
        "print(t[2])\n",
        "print(t[2:100])   #Note : here 100 is not in the list still no error\n",
        "print(\"****************************** Functions in tuples **********************************\")\n",
        "print(len(t))\n",
        "print(t.count(20))\n",
        "print(t.index(20))"
      ],
      "metadata": {
        "colab": {
          "base_uri": "https://localhost:8080/"
        },
        "id": "ru_CPH7kOen8",
        "outputId": "a0f2033d-102d-49c3-95da-601e87bc6fce"
      },
      "execution_count": 8,
      "outputs": [
        {
          "output_type": "stream",
          "name": "stdout",
          "text": [
            "(10, 20, 30, 40)\n",
            "<class 'tuple'>\n",
            "(10, 12, 14, 16, 18)\n",
            "30\n",
            "(30, 40, 50, 60)\n",
            "****************************** Functions in tuples **********************************\n",
            "6\n",
            "1\n",
            "1\n"
          ]
        }
      ]
    },
    {
      "cell_type": "markdown",
      "source": [
        "**Note**: *List can be modified* but *tuples cannot*\n",
        "\n",
        "\n",
        "\n"
      ],
      "metadata": {
        "id": "lcxd_SL4Qfc-"
      }
    },
    {
      "cell_type": "markdown",
      "source": [
        "### INDEXING\n",
        "- **Purpose**: Used for retrieval of data from a sequence (like lists, tuples, strings).\n",
        "- **Syntax**:\n",
        "  ```python\n",
        "  element = list[index]\n",
        "  ```\n",
        "- **Example**:\n",
        "  ```python\n",
        "  my_list = [10, 20, 30, 40, 50]\n",
        "  print(my_list[2])  # Output: 30\n",
        "  ```\n",
        "- **Note**: Indexing starts at `0`.\n",
        "\n",
        "### `range()` Function\n",
        "- **Purpose**: Generates a sequence of numbers, often used in loops.\n",
        "- **Syntax**:\n",
        "  ```python\n",
        "  range(start, stop, step)\n",
        "  ```\n",
        "- **Example**:\n",
        "  ```python\n",
        "  for i in range(0, len(my_list)):  # Iterates over indices from 0 to len(my_list) - 1\n",
        "      print(my_list[i])  # Prints each element\n",
        "  ```\n",
        "- **Important**: The `range()` function iterates over **indices**, not elements, which is different from slicing.\n",
        "\n",
        "### SLICING\n",
        "- **Purpose**: Used to access a subset of elements from a sequence.\n",
        "- **Syntax**:\n",
        "  ```python\n",
        "  sublist = list[start:end:step]\n",
        "  ```\n",
        "  - `start`: The starting index (inclusive).\n",
        "  - `end`: The ending index (exclusive).\n",
        "  - `step`: (Optional) The interval between each index.\n",
        "- **Example**:\n",
        "  ```python\n",
        "  my_list = [10, 20, 30, 40, 50]\n",
        "  print(my_list[1:4])  # Output: [20, 30, 40]\n",
        "  print(my_list[::2])   # Output: [10, 30, 50] (Every second element)\n",
        "  ```\n",
        "- **Note**: The last index in slicing is excluded; `my_list[1:4]` retrieves elements at indices `1`, `2`, and `3`, but not `4`.\n",
        "\n",
        "### Iteration Mistake:\n",
        "- When using `for i in range(0, len(num_list))`, it iterates over **indices** of the list.\n",
        "- When using `for num in num_list[1:]`, it iterates over **elements**, not indices.\n",
        "- **Correct Usage**:\n",
        "  - To access elements directly, use slicing or iterate over the list:\n",
        "    ```python\n",
        "    for num in num_list[1:]:\n",
        "        # Do something with num\n",
        "    ```\n",
        "  \n",
        "### Additional Points:\n",
        "- **Negative Indexing**:\n",
        "  - Python supports negative indexing where `-1` refers to the last element, `-2` to the second last, and so on.\n",
        "  - Example:\n",
        "    ```python\n",
        "    print(my_list[-1])  # Output: 50\n",
        "    print(my_list[-3:]) # Output: [30, 40, 50]\n",
        "    ```\n"
      ],
      "metadata": {
        "id": "Rk5s6Rh6DWvC"
      }
    },
    {
      "cell_type": "code",
      "source": [
        "a = 6\n",
        "b = 3\n",
        "a /= 2 * b\n",
        "print(a)\n",
        "\n"
      ],
      "metadata": {
        "id": "9iviPlngQtqx",
        "colab": {
          "base_uri": "https://localhost:8080/"
        },
        "outputId": "92f33876-4457-4675-f77f-f0a4b6a2a53c"
      },
      "execution_count": null,
      "outputs": [
        {
          "output_type": "stream",
          "name": "stdout",
          "text": [
            "1.0\n"
          ]
        }
      ]
    },
    {
      "cell_type": "markdown",
      "source": [
        "USE of upper( ) and lower( ) Functions\n",
        "\n",
        "string_name.lower()\n",
        "\n",
        "also use of f-string in python\n",
        "\n",
        "eg  print (f 'Spathiphyllum! Not {name}! ')\n",
        "\n",
        "\n",
        "\n",
        "\n"
      ],
      "metadata": {
        "id": "hqHAC6opAINh"
      }
    },
    {
      "cell_type": "code",
      "source": [
        "def check_plant_name(name):\n",
        "  name = f(name)\n",
        "  if name.upper() == 'SPATHIPHYLLUM':\n",
        "      print('Yes - Spathiphyllum is the best plant ever!')\n",
        "  else:\n",
        "      print(f'Spathiphyllum! Not {name}!')\n",
        "\n",
        "name = input(\"Enter name: \")\n",
        "check_plant_name(name)"
      ],
      "metadata": {
        "id": "lR4LuAYSAHg-"
      },
      "execution_count": null,
      "outputs": []
    },
    {
      "cell_type": "code",
      "source": [
        "n=int(input(\"Enter a number: \"))\n",
        "a=int(input(\"Enter another number: \"))\n",
        "def sum(x,y):\n",
        "  x=n\n",
        "  y=a\n",
        "  return x+y\n",
        "print(\"Sum of two given number is: \",sum(n,a))"
      ],
      "metadata": {
        "id": "DidxF_-NQJZw"
      },
      "execution_count": null,
      "outputs": []
    },
    {
      "cell_type": "code",
      "source": [
        "def minimum(x,y):\n",
        "  if x<y:\n",
        "    print(\"x is minimum\")\n",
        "  else:\n",
        "    print(\"y is minimum\")\n",
        "x= int(input(\"Enter a number:\")) #This will not expect float values\n",
        "y= int(input(\"Enter another number:\"))\n",
        "minimum(x,y)"
      ],
      "metadata": {
        "id": "XVgjRg-DBf4m"
      },
      "execution_count": null,
      "outputs": []
    },
    {
      "cell_type": "code",
      "source": [
        "def find_minimum():\n",
        "  \"\"\"Gets two numbers from the user and prints the minimum.\"\"\"\n",
        "\n",
        "  # Get input from the user, handling potential errors.\n",
        "  while True:\n",
        "    try:\n",
        "      num1 = float(input(\"Enter the first number: \"))\n",
        "      num2 = float(input(\"Enter the second number: \"))\n",
        "      break  # Exit the loop if input is valid.\n",
        "    except ValueError:\n",
        "      print(\"Invalid input. Please enter numbers only.\")\n",
        "\n",
        "  # Find and print the minimum.\n",
        "  minimum = min(num1, num2)\n",
        "  print(f\"The minimum number is: {minimum}\")\n",
        "\n",
        "# Call the function to execute it.\n",
        "find_minimum()"
      ],
      "metadata": {
        "id": "WfHFAigFa_To"
      },
      "execution_count": null,
      "outputs": []
    },
    {
      "cell_type": "code",
      "source": [
        "x = float(input(\"Enter value for x: \"))\n",
        "y = ((x+(x+(x+x**-1)**-1)**-1)**-1)\n",
        "print(\"y =\", y)"
      ],
      "metadata": {
        "colab": {
          "base_uri": "https://localhost:8080/"
        },
        "id": "pnVyOdKw4EF-",
        "outputId": "edace182-32ce-45cc-b687-0e4de2a23f43"
      },
      "execution_count": null,
      "outputs": [
        {
          "output_type": "stream",
          "name": "stdout",
          "text": [
            "Enter value for x: 100\n",
            "y = 0.009999000199950014\n"
          ]
        }
      ]
    },
    {
      "cell_type": "code",
      "source": [
        "#CISCO LAB QUESTION\n",
        "hour = int(input(\"Starting time (hours): \"))\n",
        "mins = int(input(\"Starting time (minutes): \"))\n",
        "dura = int(input(\"Event duration (minutes): \"))\n",
        "\n",
        "hour = (hour + (mins + dura) // 60) % 24  # Update hour, handling day rollover\n",
        "mins = (mins + dura) % 60  # Update minutes, ensuring 0-59 range\n",
        "\n",
        "print(f\"{hour}:{mins:02}\")  # Print with leading zero for minutes"
      ],
      "metadata": {
        "id": "MlE0s4kQ6JLz"
      },
      "execution_count": null,
      "outputs": []
    },
    {
      "cell_type": "markdown",
      "source": [
        "f-strings (Formatted String Literals)\n",
        "\n",
        "In Python, an f-string (or formatted string literal) is a way to embed expressions inside string literals using curly braces {}. The f or F before the opening quote indicates that it's an f-string.\n",
        "\n",
        "eg:\n",
        "\n",
        "name = \"Alice\"\n",
        "age = 30\n",
        "print(f\"Hello, my name is {name} and I am {age} years old.\")"
      ],
      "metadata": {
        "id": "kHATPe5t6MZC"
      }
    },
    {
      "cell_type": "code",
      "source": [
        "x = int(input())\n",
        "y = int(input())\n",
        "\n",
        "x = x // y\n",
        "y = y // x\n",
        "\n",
        "print(y)\n",
        "\n"
      ],
      "metadata": {
        "colab": {
          "base_uri": "https://localhost:8080/",
          "height": 245
        },
        "id": "T2qmv_u06YqT",
        "outputId": "224917f3-ec37-4e85-e7bc-f72ee0369c7d"
      },
      "execution_count": null,
      "outputs": [
        {
          "name": "stdout",
          "output_type": "stream",
          "text": [
            "2\n",
            "4\n"
          ]
        },
        {
          "output_type": "error",
          "ename": "ZeroDivisionError",
          "evalue": "integer division or modulo by zero",
          "traceback": [
            "\u001b[0;31m---------------------------------------------------------------------------\u001b[0m",
            "\u001b[0;31mZeroDivisionError\u001b[0m                         Traceback (most recent call last)",
            "\u001b[0;32m<ipython-input-4-05b1d2f20159>\u001b[0m in \u001b[0;36m<cell line: 5>\u001b[0;34m()\u001b[0m\n\u001b[1;32m      3\u001b[0m \u001b[0;34m\u001b[0m\u001b[0m\n\u001b[1;32m      4\u001b[0m \u001b[0mx\u001b[0m \u001b[0;34m=\u001b[0m \u001b[0mx\u001b[0m \u001b[0;34m//\u001b[0m \u001b[0my\u001b[0m\u001b[0;34m\u001b[0m\u001b[0;34m\u001b[0m\u001b[0m\n\u001b[0;32m----> 5\u001b[0;31m \u001b[0my\u001b[0m \u001b[0;34m=\u001b[0m \u001b[0my\u001b[0m \u001b[0;34m//\u001b[0m \u001b[0mx\u001b[0m\u001b[0;34m\u001b[0m\u001b[0;34m\u001b[0m\u001b[0m\n\u001b[0m\u001b[1;32m      6\u001b[0m \u001b[0;34m\u001b[0m\u001b[0m\n\u001b[1;32m      7\u001b[0m \u001b[0mprint\u001b[0m\u001b[0;34m(\u001b[0m\u001b[0my\u001b[0m\u001b[0;34m)\u001b[0m\u001b[0;34m\u001b[0m\u001b[0;34m\u001b[0m\u001b[0m\n",
            "\u001b[0;31mZeroDivisionError\u001b[0m: integer division or modulo by zero"
          ]
        }
      ]
    },
    {
      "cell_type": "code",
      "source": [
        "x = 1 / 2 + 3 // 3 + 4 ** 2\n",
        "print(x)\n"
      ],
      "metadata": {
        "colab": {
          "base_uri": "https://localhost:8080/"
        },
        "id": "tmuepk_T75Nr",
        "outputId": "9907aaa6-3c85-4571-85d0-8a430198788e"
      },
      "execution_count": null,
      "outputs": [
        {
          "output_type": "stream",
          "name": "stdout",
          "text": [
            "17.5\n"
          ]
        }
      ]
    },
    {
      "cell_type": "code",
      "source": [
        "# PROGRAM TO CHECK A NUMBER IS PRIME OR NOT\n",
        "n = int(input(\"Enter a number: \"))\n",
        "count = 0\n",
        "for i in range(2, n):\n",
        "    if n % i == 0:\n",
        "        count += 1\n",
        "if count > 0:\n",
        "    print(\"Number is composite.\")\n",
        "else:\n",
        "    print(\"Number is prime.\")"
      ],
      "metadata": {
        "id": "lQrBeWPP6YoF",
        "colab": {
          "base_uri": "https://localhost:8080/"
        },
        "outputId": "ec2210bd-52e2-41c1-a438-6a21d40f24de"
      },
      "execution_count": null,
      "outputs": [
        {
          "output_type": "stream",
          "name": "stdout",
          "text": [
            "Enter a number: 71\n",
            "Number is prime.\n"
          ]
        }
      ]
    },
    {
      "cell_type": "code",
      "source": [
        "# PROGRAM TO CHECK A YEAR IS LEAP YEAR OR NOT\n",
        "# if the year number isn't divisible by four, it's a common year;\n",
        "# otherwise, if the year number isn't divisible by 100, it's a leap year;\n",
        "# otherwise, if the year number isn't divisible by 400, it's a common year;\n",
        "# otherwise, it's a leap year.\n",
        "year = int(input(\"Enter a year: \"))\n",
        "\n",
        "if year < 1582:\n",
        "\tprint(\"Not within the Gregorian calendar period\")\n",
        "else:\n",
        "    if year % 4 !=0 or year %400 !=0 :\n",
        "       print(\"Common year\")\n",
        "    elif year % 100 != 0 :\n",
        "        print(\"Leap year\")\n",
        "    else:\n",
        "        print(\"Leap year\")"
      ],
      "metadata": {
        "id": "wJ_bmd5bDKPW",
        "colab": {
          "base_uri": "https://localhost:8080/"
        },
        "outputId": "bf25e33b-7ee4-4803-bfdb-c011f3f7db25"
      },
      "execution_count": null,
      "outputs": [
        {
          "output_type": "stream",
          "name": "stdout",
          "text": [
            "Enter a year: 2016\n",
            "Common year\n"
          ]
        }
      ]
    },
    {
      "cell_type": "markdown",
      "source": [
        "**break** – exits the loop immediately, and unconditionally ends the loop's operation; the program begins to execute the nearest instruction after the loop's body;\n",
        "*******************************************\n",
        "**continue** – behaves as if the program has suddenly reached the end of the body; the next turn is started and the condition expression is tested immediately."
      ],
      "metadata": {
        "id": "m_q_AZBSLxM7"
      }
    },
    {
      "cell_type": "code",
      "source": [
        "#PROGRAM TO REMOVE ALL VOWEL FROM A WORD\n",
        "user_word = input(\"Enter a word: \").lower()\n",
        "word_without_vowels = \"\"\n",
        "\n",
        "for letter in user_word:\n",
        "    if letter == 'a' or letter == 'e' or letter == 'i' or letter == 'o' or letter == 'u':\n",
        "        continue\n",
        "    else:\n",
        "        word_without_vowels += letter\n",
        "\n",
        "print(word_without_vowels.upper())\n",
        "\n"
      ],
      "metadata": {
        "id": "f_oXsvdcP2Rz"
      },
      "execution_count": null,
      "outputs": []
    },
    {
      "cell_type": "code",
      "source": [
        "for i in range(5):\n",
        "\n",
        "  print(i + 1, end=\" * \")\n",
        "  for j in range(i):\n",
        "      print(\"*\", end=\" \")\n",
        "  print()\n"
      ],
      "metadata": {
        "colab": {
          "base_uri": "https://localhost:8080/"
        },
        "id": "JqIuO7lOiIRy",
        "outputId": "2d3d6a9d-e87c-433c-e99d-322114aab051"
      },
      "execution_count": null,
      "outputs": [
        {
          "output_type": "stream",
          "name": "stdout",
          "text": [
            "1 * \n",
            "2 * * \n",
            "3 * * * \n",
            "4 * * * * \n",
            "5 * * * * * \n"
          ]
        }
      ]
    },
    {
      "cell_type": "code",
      "source": [
        "for i in range(3):\n",
        "  print(\"Hi \",i+1)"
      ],
      "metadata": {
        "colab": {
          "base_uri": "https://localhost:8080/"
        },
        "id": "NKk7A9iQjY9G",
        "outputId": "3324f171-ced6-46ee-8fce-1de77f0e26d8"
      },
      "execution_count": null,
      "outputs": [
        {
          "output_type": "stream",
          "name": "stdout",
          "text": [
            "Hi  1\n",
            "Hi  2\n",
            "Hi  3\n"
          ]
        }
      ]
    },
    {
      "cell_type": "code",
      "source": [
        "def introduction(first_name, last_name=\"Smith\"):\n",
        "     print(\"Hello, my name is\", first_name, last_name)\n",
        "introduction(\"James\")"
      ],
      "metadata": {
        "colab": {
          "base_uri": "https://localhost:8080/"
        },
        "id": "Lszh0-lLu5YR",
        "outputId": "835e9310-66ff-47ce-92ca-17a0e5b78b4c"
      },
      "execution_count": null,
      "outputs": [
        {
          "output_type": "stream",
          "name": "stdout",
          "text": [
            "Hello, my name is James Smith\n"
          ]
        }
      ]
    },
    {
      "cell_type": "markdown",
      "source": [
        "Parametrized Function:\n",
        "- Passing default argument\n",
        "- note: you cannot pass default argumnet before a non default arg as we did below"
      ],
      "metadata": {
        "id": "2WjjslmzvwVB"
      }
    },
    {
      "cell_type": "code",
      "source": [
        "def add_numbers(a, b=2, c):\n",
        "    print(a + b + c)\n",
        "\n",
        "add_numbers(a=1,c=3)\n"
      ],
      "metadata": {
        "colab": {
          "base_uri": "https://localhost:8080/",
          "height": 106
        },
        "id": "UpSh_yZuvZHc",
        "outputId": "d5a26e23-e6d6-4e1c-fbca-c2f66e8146f1"
      },
      "execution_count": null,
      "outputs": [
        {
          "output_type": "error",
          "ename": "SyntaxError",
          "evalue": "non-default argument follows default argument (<ipython-input-27-6ece2d8925a0>, line 1)",
          "traceback": [
            "\u001b[0;36m  File \u001b[0;32m\"<ipython-input-27-6ece2d8925a0>\"\u001b[0;36m, line \u001b[0;32m1\u001b[0m\n\u001b[0;31m    def add_numbers(a, b=2, c):\u001b[0m\n\u001b[0m                            ^\u001b[0m\n\u001b[0;31mSyntaxError\u001b[0m\u001b[0;31m:\u001b[0m non-default argument follows default argument\n"
          ]
        }
      ]
    },
    {
      "cell_type": "code",
      "source": [
        "# WRITE A PROGRAM TO DISPLAY ELEMENT BY INDEX VALUE FROM A LIST OF ELEMENTS\n",
        "my_list = [10,20,30,40,50,60,70,80,90,100]\n",
        "for i in range(len(my_list)):\n",
        "  print(my_list[i],'is at index value',i,'negative index',i-len(my_list))\n",
        "#"
      ],
      "metadata": {
        "colab": {
          "base_uri": "https://localhost:8080/"
        },
        "id": "BbKBewP0NSvf",
        "outputId": "6834a18c-97a1-4636-ccfb-99fe65707a39"
      },
      "execution_count": null,
      "outputs": [
        {
          "output_type": "stream",
          "name": "stdout",
          "text": [
            "10 is at index value 0 negative index -10\n",
            "20 is at index value 1 negative index -9\n",
            "30 is at index value 2 negative index -8\n",
            "40 is at index value 3 negative index -7\n",
            "50 is at index value 4 negative index -6\n",
            "60 is at index value 5 negative index -5\n",
            "70 is at index value 6 negative index -4\n",
            "80 is at index value 7 negative index -3\n",
            "90 is at index value 8 negative index -2\n",
            "100 is at index value 9 negative index -1\n"
          ]
        }
      ]
    },
    {
      "cell_type": "markdown",
      "source": [
        "SLICING IS USED FOR CLONING"
      ],
      "metadata": {
        "id": "V19y4GxQVUZq"
      }
    },
    {
      "cell_type": "code",
      "source": [
        "x = [10,20,30,40,50,60,70,80,90,100]\n",
        "y = x  # shows aliasing\n",
        "print(id(x))\n",
        "print(id(y))\n",
        "\n",
        "y[1]=777\n",
        "print(x)\n",
        "\n",
        "x = [10,20,30,50]\n",
        "y = x[:]  # shows cloning\n",
        "print(id(x))\n",
        "print(id(y))\n",
        "y[1]=777\n",
        "print(x)\n",
        "y.insert(50,48)\n",
        "y.insert(-10,45)\n",
        "print(y)\n",
        "\n",
        "\n"
      ],
      "metadata": {
        "colab": {
          "base_uri": "https://localhost:8080/"
        },
        "id": "A6tczWmJO2TX",
        "outputId": "d11a0eca-e8a4-44d8-fa92-dc81eabba9dd"
      },
      "execution_count": null,
      "outputs": [
        {
          "output_type": "stream",
          "name": "stdout",
          "text": [
            "134136117496064\n",
            "134136117496064\n",
            "[10, 777, 30, 40, 50, 60, 70, 80, 90, 100]\n",
            "134137032398720\n",
            "134136119112704\n",
            "[10, 20, 30, 50]\n",
            "[45, 10, 777, 30, 50, 48]\n"
          ]
        }
      ]
    },
    {
      "cell_type": "code",
      "source": [
        "#PROGRAM USING FUNCTION TO CHECK PRIME NUMBER\n",
        "def is_prime(num):\n",
        "    for i in range(2,int(num**0.5) + 1): # only num**0.5 returns float value therefore used typecasting\n",
        "        if num % i == 0:\n",
        "           return False\n",
        "\n",
        "    return True\n",
        "for i in range(1, 20):\n",
        "    if is_prime(i + 1):\n",
        "        print(i + 1, end=\" \")\n",
        "print()\n"
      ],
      "metadata": {
        "colab": {
          "base_uri": "https://localhost:8080/"
        },
        "id": "Il8YK8lbpN1Y",
        "outputId": "091a3789-4a5c-4672-c4bf-1455f5ab3cd4"
      },
      "execution_count": null,
      "outputs": [
        {
          "output_type": "stream",
          "name": "stdout",
          "text": [
            "2 3 5 7 11 13 17 19 \n"
          ]
        }
      ]
    },
    {
      "cell_type": "markdown",
      "source": [
        "**DICTIONARY**\n",
        "\n",
        "It's not a sequence type (but can be easily adapted to sequence processing) and it is mutable.\n",
        "\n",
        "This means that a dictionary is a set of key-value pairs. Note:\n",
        "\n",
        "each key must be unique − it's not possible to have more than one key of the same value;\n",
        "- **a key may be any immutable** type of object: it can be a number (integer or float), or even a string, but not a list;\n",
        "- a dictionary is not a list − a list contains a set of numbered values, while a dictionary holds pairs of values;\n",
        "- the len() function works for dictionaries, too − it returns the number of key-value elements in the dictionary;\n",
        "- a dictionary is a one-way tool − if you have an English-French dictionary, you can look for French equivalents of English terms, but not vice versa."
      ],
      "metadata": {
        "id": "_ImnlF9zHllX"
      }
    },
    {
      "cell_type": "markdown",
      "source": [
        "To get sorted dictionary use  **sorted keyword** in for loop.\n",
        "**To add an element 2 types:**\n",
        "- dictionary['swan'] = 'cygne'  \n",
        "//use a new key and assign it the value\n",
        "- dictionary.update({\"duck\": \"canard\"})  \n",
        "//use update keyword\n",
        "\n",
        "Removal of a key using **del** keyword\n",
        "- del dictionary['dog']\n",
        "\n",
        "**Note**: removing a non-existing key causes an error.\n",
        "\n",
        "To remove the last item from the list\n",
        "use **popitem**()\n",
        "\n",
        "- to delete whole dictinary use dict.clear()\n",
        "- to copy dictionary use dict.copy()\n",
        "- to access item from key use dict.get(\"key_name\")\n",
        "- If you want to loop through a dictionary's keys and values, you can use the items() method"
      ],
      "metadata": {
        "id": "tzws13J-Kmux"
      }
    },
    {
      "cell_type": "code",
      "source": [
        "dictionary = {\"cat\": \"chat\", \"dog\": \"chien\", \"horse\": \"cheval\"}\n",
        "phone_numbers = {'boss': 5551234567, 'Suzy': 22657854310}\n",
        "empty_dictionary = {}\n",
        "\n",
        "print(dictionary)\n",
        "print(phone_numbers)\n",
        "print(empty_dictionary)\n",
        "\n"
      ],
      "metadata": {
        "colab": {
          "base_uri": "https://localhost:8080/"
        },
        "id": "4RQGBJBlH0hA",
        "outputId": "d19aa421-44ec-4d67-d059-4683feb94fc6"
      },
      "execution_count": null,
      "outputs": [
        {
          "output_type": "stream",
          "name": "stdout",
          "text": [
            "{'cat': 'chat', 'dog': 'chien', 'horse': 'cheval'}\n",
            "{'boss': 5551234567, 'Suzy': 22657854310}\n",
            "{}\n"
          ]
        }
      ]
    },
    {
      "cell_type": "code",
      "source": [
        "my_dict = {\"cat\": \"chat\", \"dog\": \"chien\", \"horse\": \"cheval\"}\n",
        "\n",
        "for key in my_dict.keys():\n",
        "    print(key, \"->\", my_dict[key])\n",
        "\n"
      ],
      "metadata": {
        "colab": {
          "base_uri": "https://localhost:8080/"
        },
        "id": "Ff6GShZVI4Gl",
        "outputId": "cdb1d49d-8ccf-4ab9-a0cc-b83c2abaf6c9"
      },
      "execution_count": null,
      "outputs": [
        {
          "output_type": "stream",
          "name": "stdout",
          "text": [
            "cat -> chat\n",
            "dog -> chien\n",
            "horse -> cheval\n"
          ]
        }
      ]
    },
    {
      "cell_type": "code",
      "source": [
        "# To get sorted dictionary\n",
        "for key in sorted(my_dict.keys()):\n",
        "  print(my_dict[key])\n",
        "\n",
        "# To"
      ],
      "metadata": {
        "colab": {
          "base_uri": "https://localhost:8080/"
        },
        "id": "SnvJLE8EKECv",
        "outputId": "b0cd1852-dbf5-40d7-e1ba-1e1d37960265"
      },
      "execution_count": null,
      "outputs": [
        {
          "output_type": "stream",
          "name": "stdout",
          "text": [
            "chat\n",
            "chien\n",
            "cheval\n"
          ]
        }
      ]
    },
    {
      "cell_type": "code",
      "source": [
        "dictionary = {\"cat\": \"chat\", \"dog\": \"chien\", \"horse\": \"cheval\"}\n",
        "\n",
        "dictionary.popitem()\n",
        "print(dictionary)    # outputs: {'cat': 'chat', 'dog': 'chien'}\n"
      ],
      "metadata": {
        "id": "XwnREPNvOdL9"
      },
      "execution_count": null,
      "outputs": []
    },
    {
      "cell_type": "markdown",
      "source": [
        "**EXCEPTION HANDLING PYHTON**\n",
        "\n",
        " **try keyword** – this is the place where you put the code you suspect is risky and may be terminated in case of error;\n",
        "\n",
        " note: this kind of error is called an exception, while the exception occurrence is called raising – we can say that an exception is (or was) raised;\n",
        "\n",
        " The part of the code starting with the except keyword is designed to handle the exception"
      ],
      "metadata": {
        "id": "ionxfvUIR4KU"
      }
    },
    {
      "cell_type": "code",
      "source": [
        "try:\n",
        "    value = int(input('Enter a natural number: '))\n",
        "    print('The reciprocal of', value, 'is', 1/value)\n",
        "except ValueError:\n",
        "    print('I do not know what to do.')\n",
        "except ZeroDivisionError:\n",
        "    print('Division by zero is not allowed in our Universe.')\n"
      ],
      "metadata": {
        "colab": {
          "base_uri": "https://localhost:8080/"
        },
        "id": "xjUo0VLTSfhn",
        "outputId": "55a26082-bad7-49ae-dcc4-b18ebab63129"
      },
      "execution_count": null,
      "outputs": [
        {
          "output_type": "stream",
          "name": "stdout",
          "text": [
            "Enter a natural number: cat\n",
            "I do not know what to do.\n"
          ]
        }
      ]
    },
    {
      "cell_type": "markdown",
      "source": [
        "Useful Exceptions\n",
        "- ZeroDivisionError\n",
        "- ValueError: In general, this exception is raised when a function (like int() or float()) receives an argument of a proper type, but its value is unacceptable.\n",
        "- TypeError\n",
        "- AttributeError\n",
        "- SyntaxError"
      ],
      "metadata": {
        "id": "BBr2CKECTJwA"
      }
    },
    {
      "cell_type": "code",
      "source": [
        "# Program for factorial using recursive function\n",
        "\n",
        "def factorial(n):\n",
        "  if n==1:\n",
        "    return 1\n",
        "  else:\n",
        "    return n*factorial(n-1)\n",
        "print(factorial(5))"
      ],
      "metadata": {
        "colab": {
          "base_uri": "https://localhost:8080/"
        },
        "id": "QbcW31_3FWbZ",
        "outputId": "bc34565c-67bb-4795-8b39-078e33728053"
      },
      "execution_count": null,
      "outputs": [
        {
          "output_type": "stream",
          "name": "stdout",
          "text": [
            "120\n"
          ]
        }
      ]
    },
    {
      "cell_type": "code",
      "source": [
        "# program to calculate sum of digits recursivly\n",
        "def sumOfDigit(n):\n",
        "  if n<=0:\n",
        "    return n\n",
        "  else:\n",
        "    other_digit=n//10\n",
        "    last_digit= n%10\n",
        "    return last_digit + sumOfDigit(other_digit)\n",
        "\n",
        "print(sumOfDigit(1234))"
      ],
      "metadata": {
        "colab": {
          "base_uri": "https://localhost:8080/"
        },
        "id": "j1_1DkMofJmW",
        "outputId": "ab5f186f-52ce-4f92-9a97-87cd129d9419"
      },
      "execution_count": null,
      "outputs": [
        {
          "output_type": "stream",
          "name": "stdout",
          "text": [
            "10\n"
          ]
        }
      ]
    },
    {
      "cell_type": "code",
      "source": [
        "# Program to find nth number of fibonacci sequence\n",
        "def fib(n):\n",
        "  if n==1:\n",
        "    return 0\n",
        "  elif n==2:\n",
        "    return 1\n",
        "  else:\n",
        "    return fib(n-1)+fib(n-2)\n",
        "print(fib(4))"
      ],
      "metadata": {
        "colab": {
          "base_uri": "https://localhost:8080/"
        },
        "id": "DopameEzgpkc",
        "outputId": "cd25d966-a45e-4401-cae2-8ade03f6847f"
      },
      "execution_count": null,
      "outputs": [
        {
          "output_type": "stream",
          "name": "stdout",
          "text": [
            "2\n"
          ]
        }
      ]
    },
    {
      "cell_type": "code",
      "source": [
        "#Program to check a string is palindrome\n",
        "def isPalindrome(s):\n",
        "  if len(s)<=1:\n",
        "    return True\n",
        "  else:\n",
        "    if s[0]==s[-1]:\n",
        "      return isPalindrome(s[1:-1])\n",
        "    else:\n",
        "      return False\n",
        "print(isPalindrome('spoon'))\n",
        "print(isPalindrome('racecar'))"
      ],
      "metadata": {
        "colab": {
          "base_uri": "https://localhost:8080/"
        },
        "id": "XmRY9-SshTt0",
        "outputId": "431046c0-80b6-42bc-b229-8dd240b4f726"
      },
      "execution_count": null,
      "outputs": [
        {
          "output_type": "stream",
          "name": "stdout",
          "text": [
            "False\n",
            "True\n"
          ]
        }
      ]
    },
    {
      "cell_type": "markdown",
      "source": [
        "**OBJECT ORIENTED PROGRAMMING IN PYTHON**\n",
        "\n",
        "syntax to make a class\n",
        "\n",
        "class class_name( ): //note class_name should start with capital letter\n",
        "\n",
        "for example:\n",
        " class Animal( ):\n"
      ],
      "metadata": {
        "id": "SIFz_9VOiTzq"
      }
    },
    {
      "cell_type": "code",
      "source": [
        "class Animal():\n",
        "  def __init__(self,name,age): # this is an initialization function\n",
        "    self.name=name\n",
        "    self.age=age\n",
        "  def speak(self):\n",
        "    print(\"I am\",self.name,\"and I am\",self.age,\"years old\")\n",
        "\n",
        "#creating object for the class\n",
        "dog = Animal(\"dog\",15)\n",
        "dog.speak()\n",
        "dog.age -=5\n",
        "print(dog.age)\n",
        "\n",
        "# inheritance\n",
        "class bird(Animal):\n",
        "  def __init__(self,name,age):\n",
        "\n",
        "      self.name= name\n",
        "      self.age=age\n",
        "      self.color=color\n",
        "  def speak(self):\n",
        "    print(\"I am\",self.name,\"and I am\",self.age,\"years old and I am\",self.color)\n",
        "\n",
        "crow=bird(\"crow\",5)\n",
        "crow.color=\"red\"\n",
        "crow.speak()"
      ],
      "metadata": {
        "colab": {
          "base_uri": "https://localhost:8080/",
          "height": 245
        },
        "id": "sHHn7HaVjddL",
        "outputId": "3859923a-54e7-4fa6-977a-b493bc94a11d"
      },
      "execution_count": null,
      "outputs": [
        {
          "output_type": "stream",
          "name": "stdout",
          "text": [
            "I am dog and I am 15 years old\n",
            "10\n"
          ]
        },
        {
          "output_type": "error",
          "ename": "NameError",
          "evalue": "name 'red' is not defined",
          "traceback": [
            "\u001b[0;31m---------------------------------------------------------------------------\u001b[0m",
            "\u001b[0;31mNameError\u001b[0m                                 Traceback (most recent call last)",
            "\u001b[0;32m<ipython-input-5-b13f70031db4>\u001b[0m in \u001b[0;36m<cell line: 24>\u001b[0;34m()\u001b[0m\n\u001b[1;32m     22\u001b[0m     \u001b[0mprint\u001b[0m\u001b[0;34m(\u001b[0m\u001b[0;34m\"I am\"\u001b[0m\u001b[0;34m,\u001b[0m\u001b[0mself\u001b[0m\u001b[0;34m.\u001b[0m\u001b[0mname\u001b[0m\u001b[0;34m,\u001b[0m\u001b[0;34m\"and I am\"\u001b[0m\u001b[0;34m,\u001b[0m\u001b[0mself\u001b[0m\u001b[0;34m.\u001b[0m\u001b[0mage\u001b[0m\u001b[0;34m,\u001b[0m\u001b[0;34m\"years old and I am\"\u001b[0m\u001b[0;34m,\u001b[0m\u001b[0mself\u001b[0m\u001b[0;34m.\u001b[0m\u001b[0mcolor\u001b[0m\u001b[0;34m)\u001b[0m\u001b[0;34m\u001b[0m\u001b[0;34m\u001b[0m\u001b[0m\n\u001b[1;32m     23\u001b[0m \u001b[0;34m\u001b[0m\u001b[0m\n\u001b[0;32m---> 24\u001b[0;31m \u001b[0mcrow\u001b[0m\u001b[0;34m=\u001b[0m\u001b[0mbird\u001b[0m\u001b[0;34m(\u001b[0m\u001b[0;34m\"crow\"\u001b[0m\u001b[0;34m,\u001b[0m\u001b[0;36m5\u001b[0m\u001b[0;34m,\u001b[0m\u001b[0mred\u001b[0m\u001b[0;34m)\u001b[0m\u001b[0;34m\u001b[0m\u001b[0;34m\u001b[0m\u001b[0m\n\u001b[0m\u001b[1;32m     25\u001b[0m \u001b[0mcrow\u001b[0m\u001b[0;34m.\u001b[0m\u001b[0mcolor\u001b[0m\u001b[0;34m=\u001b[0m\u001b[0;34m\"red\"\u001b[0m\u001b[0;34m\u001b[0m\u001b[0;34m\u001b[0m\u001b[0m\n\u001b[1;32m     26\u001b[0m \u001b[0mcrow\u001b[0m\u001b[0;34m.\u001b[0m\u001b[0mspeak\u001b[0m\u001b[0;34m(\u001b[0m\u001b[0;34m)\u001b[0m\u001b[0;34m\u001b[0m\u001b[0;34m\u001b[0m\u001b[0m\n",
            "\u001b[0;31mNameError\u001b[0m: name 'red' is not defined"
          ]
        }
      ]
    }
  ]
}